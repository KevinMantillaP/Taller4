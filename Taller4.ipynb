{
  "nbformat": 4,
  "nbformat_minor": 0,
  "metadata": {
    "colab": {
      "provenance": [],
      "authorship_tag": "ABX9TyNUltaIRIHAgZWqypxW0Klu",
      "include_colab_link": true
    },
    "kernelspec": {
      "name": "python3",
      "display_name": "Python 3"
    },
    "language_info": {
      "name": "python"
    }
  },
  "cells": [
    {
      "cell_type": "markdown",
      "metadata": {
        "id": "view-in-github",
        "colab_type": "text"
      },
      "source": [
        "<a href=\"https://colab.research.google.com/github/KevinMantillaP/Taller4/blob/main/Taller4.ipynb\" target=\"_parent\"><img src=\"https://colab.research.google.com/assets/colab-badge.svg\" alt=\"Open In Colab\"/></a>"
      ]
    },
    {
      "cell_type": "code",
      "execution_count": 4,
      "metadata": {
        "id": "lO2IRfyrXCoD"
      },
      "outputs": [],
      "source": [
        "from collections import Counter\n",
        "from openpyxl import Workbook\n",
        "\n",
        "texto = \"\"\"\n",
        "El señor y la señora Dursley, que vivían en el número 4 de Privet Drive, estaban\n",
        "orgullosos de decir que eran muy normales, afortunadamente. Eran las últimas personas\n",
        "que se esperaría encontrar relacionadas con algo extraño o misterioso, porque no\n",
        "estaban para tales tonterías.\n",
        "El señor Dursley era el director de una empresa llamada Grunnings, que fabricaba\n",
        "taladros. Era un hombre corpulento y rollizo, casi sin cuello, aunque con un bigote\n",
        "inmenso. La señora Dursley era delgada, rubia y tenía un cuello casi el doble de largo de\n",
        "lo habitual, lo que le resultaba muy útil, ya que pasaba la mayor parte del tiempo\n",
        "estirándolo por encima de la valla de los jardines para espiar a sus vecinos. Los Dursley\n",
        "tenían un hijo pequeño llamado Dudley, y para ellos no había un niño mejor que él.\n",
        "Los Dursley tenían todo lo que querían, pero también tenían un secreto, y su mayor\n",
        "temor era que lo descubriesen: no habrían soportado que se supiera lo de los Potter.\n",
        "La señora Potter era hermana de la señora Dursley, pero no se veían desde hacía\n",
        "años; tanto era así que la señora Dursley fingía que no tenía hermana, porque su\n",
        "hermana y su marido, un completo inútil, eran lo más opuesto a los Dursley que se\n",
        "pudiera imaginar. Los Dursley se estremecían al pensar qué dirían los vecinos si los\n",
        "Potter apareciesen por la acera. Sabían que los Potter también tenían un hijo pequeño,\n",
        "pero nunca lo habían visto. El niño era otra buena razón para mantener alejados a los\n",
        "Potter: no querían que Dudley se juntara con un niño como aquél.\n",
        "Nuestra historia comienza cuando el señor y la señora Dursley se despertaron un\n",
        "martes, con un cielo cubierto de nubes grises que amenazaban tormenta. Pero nada\n",
        "había en aquel nublado cielo que sugiriera los acontecimientos extraños y misteriosos\n",
        "que poco después tendrían lugar en toda la región. El señor Dursley canturreaba\n",
        "mientras se ponía su corbata más sosa para ir al trabajo, y la señora Dursley parloteaba\n",
        "alegremente mientras instalaba al ruidoso Dudley en la silla alta.\n",
        "Ninguno vio la gran lechuza parda que pasaba volando por la ventana.\n",
        "A las ocho y media, el señor Dursley cogió su maletín, besó a la señora Dursley en\n",
        "la mejilla y trató de despedirse de Dudley con un beso, aunque no pudo, ya que el niño\n",
        "tenía un berrinche y estaba arrojando los cereales contra las paredes. «Tunante», dijo\n",
        "entre dientes el señor Dursley mientras salía de la casa. Se metió en su coche y se alejó\n",
        "del número 4.\n",
        "Al llegar a la esquina percibió el primer indicio de que sucedía algo raro: un gato\n",
        "estaba mirando un plano de la ciudad. Durante un segundo, el señor Dursley no se dio\n",
        "cuenta de lo que había visto, pero luego volvió la cabeza para mirar otra vez. Sí había\n",
        "un gato atigrado en la esquina de Privet Drive, pero no vio ningún plano. ¿En qué había\n",
        "estado pensando? Debía de haber sido una ilusión óptica. El señor Dursley parpadeó y\n",
        "contempló al gato. Éste le devolvió la mirada. Mientras el señor Dursley daba la vuelta\n",
        "a la esquina y subía por la calle, observó al gato por el espejo retrovisor: en aquel\n",
        "momento el felino estaba leyendo el rótulo que decía «Privet Drive» (no podía ser, los\n",
        "gatos no saben leer los rótulos ni los planos). El señor Dursley meneó la cabeza y alejó\n",
        "al gato de sus pensamientos. Mientras iba a la ciudad en coche no pensó más que en los\n",
        "pedidos de taladros que esperaba conseguir aquel día.\n",
        "Pero en las afueras ocurrió algo que apartó los taladros de su mente. Mientras\n",
        "esperaba en el habitual embotellamiento matutino, no pudo dejar de advertir una gran\n",
        "cantidad de gente vestida de forma extraña. Individuos con capa. El señor Dursley no\n",
        "soportaba a la gente que llevaba ropa ridícula. ¡Ah, los conjuntos que llevaban los\n",
        "jóvenes! Supuso que debía de ser una moda nueva. Tamborileó con los dedos sobre el\n",
        "volante y su mirada se posó en unos extraños que estaban cerca de él. Cuchicheaban\n",
        "entre sí, muy excitados. El señor Dursley se enfureció al darse cuenta de que dos de los\n",
        "desconocidos no eran jóvenes. Vamos, uno era incluso mayor que él, ¡y vestía una capa\n",
        "verde esmeralda! ¡Qué valor! Pero entonces se le ocurrió que debía de ser alguna\n",
        "tontería publicitaria; era evidente que aquella gente hacía una colecta para algo. Sí, tenía\n",
        "que ser eso. El tráfico avanzó y, unos minutos más tarde, el señor Dursley llegó al\n",
        "aparcamiento de Grunnings, pensando nuevamente en los taladros.\n",
        "El señor Dursley siempre se sentaba de espaldas a la ventana, en su oficina del\n",
        "noveno piso. Si no lo hubiera hecho así, aquella mañana le habría costado concentrarse\n",
        "en los taladros. No vio las lechuzas que volaban en pleno día, aunque en la calle sí que\n",
        "las veían y las señalaban con la boca abierta, mientras las aves desfilaban una tras otra.\n",
        "La mayoría de aquellas personas no había visto una lechuza ni siquiera de noche. Sin\n",
        "embargo, el señor Dursley tuvo una mañana perfectamente normal, sin lechuzas. Gritó a\n",
        "cinco personas. Hizo llamadas telefónicas importantes y volvió a gritar. Estuvo de muy\n",
        "buen humor hasta la hora de la comida, cuando decidió estirar las piernas y dirigirse a la\n",
        "panadería que estaba en la acera de enfrente.\n",
        "Había olvidado a la gente con capa hasta que pasó cerca de un grupo que estaba al\n",
        "lado de la panadería. Al pasar los miró enfadado. No sabía por qué, pero le ponían\n",
        "nervioso. Aquel grupo también susurraba con agitación y no llevaba ni una hucha.\n",
        "Cuando regresaba con un donut gigante en una bolsa de papel, alcanzó a oír unas pocas\n",
        "palabras de su conversación.\n",
        "—Los Potter, eso es, eso es lo que he oído...\n",
        "—Sí, su hijo, Harry...\n",
        "El señor Dursley se quedó petrificado. El temor lo invadió. Se volvió hacia los que\n",
        "murmuraban, como si quisiera decirles algo, pero se contuvo.\n",
        "Se apresuró a cruzar la calle y echó a correr hasta su oficina. Dijo a gritos a su\n",
        "secretaria que no quería que le molestaran, cogió el teléfono y, cuando casi había\n",
        "terminado de marcar los números de su casa, cambió de idea. Dejó el aparato y se atusó\n",
        "los bigotes mientras pensaba... No, se estaba comportando como un estúpido. Potter no\n",
        "era un apellido tan especial. Estaba seguro de que había muchísimas personas que se\n",
        "llamaban Potter y que tenían un hijo llamado Harry. Y pensándolo mejor, ni siquiera\n",
        "estaba seguro de que su sobrino se llamara Harry. Nunca había visto al niño. Podría\n",
        "llamarse Harvey. O Harold. No tenía sentido preocupar a la señora Dursley, siempre se\n",
        "trastornaba mucho ante cualquier mención de su hermana. Y no podía reprochárselo. ¡Si\n",
        "él hubiera tenido una hermana así...! Pero de todos modos, aquella gente de la capa...\n",
        "Aquella tarde le costó concentrarse en los taladros, y cuando dejó el edificio, a las\n",
        "cinco en punto, estaba todavía tan preocupado que, sin darse cuenta, chocó con un\n",
        "hombre que estaba en la puerta.\n",
        "—Perdón —gruñó, mientras el diminuto viejo se tambaleaba y casi caía al suelo.\n",
        "Segundos después, el señor Dursley se dio cuenta de que el hombre llevaba una capa\n",
        "violeta. No parecía disgustado por el empujón. Al contrario, su rostro se iluminó con\n",
        "una amplia sonrisa, mientras decía con una voz tan chillona que llamaba la atención de\n",
        "los que pasaban:\n",
        "—¡No se disculpe, mi querido señor, porque hoy nada puede molestarme! ¡Hay que\n",
        "alegrarse, porque Quien-usted-sabe finalmente se ha ido! ¡Hasta los muggles como\n",
        "usted deberían celebrar este feliz día!\n",
        "Y el anciano abrazó al señor Dursley y se alejó.\n",
        "El señor Dursley se quedó completamente helado. Lo había abrazado un\n",
        "desconocido. Y por si fuera poco le había llamado muggle, no importaba lo que eso\n",
        "fuera. Estaba desconcertado. Se apresuró a subir a su coche y a dirigirse hacia su casa,\n",
        "deseando que todo fueran imaginaciones suyas (algo que nunca había deseado antes,\n",
        "porque no aprobaba la imaginación).\n",
        "Cuando entró en el camino del número 4, lo primero que vio (y eso no mejoró su\n",
        "humor) fue el gato atigrado que se había encontrado por la mañana. En aquel momento\n",
        "estaba sentado en la pared de su jardín. Estaba seguro de que era el mismo, pues tenía\n",
        "unas líneas idénticas alrededor de los ojos.\n",
        "—¡Fuera! —dijo el señor Dursley en voz alta.\n",
        "El gato no se movió. Sólo le dirigió una mirada severa. El señor Dursley se\n",
        "preguntó si aquélla era una conducta normal en un gato. Trató de calmarse y entró en la\n",
        "casa. Todavía seguía decidido a no decirle nada a su esposa.\n",
        "La señora Dursley había tenido un día bueno y normal. Mientras comían, le\n",
        "informó de los problemas de la señora Puerta Contigua con su hija, y le contó que\n",
        "Dudley había aprendido una nueva frase («¡no lo haré!»). El señor Dursley trató de\n",
        "comportarse con normalidad. Una vez que acostaron a Dudley, fue al salón a tiempo\n",
        "para ver el informativo de la noche.\n",
        "—Y por último, observadores de pájaros de todas partes han informado de que hoy\n",
        "las lechuzas de la nación han tenido una conducta poco habitual. Pese a que las lechuzas\n",
        "habitualmente cazan durante la noche y es muy difícil verlas a la luz del día, se han\n",
        "producido cientos de avisos sobre el vuelo de estas aves en todas direcciones, desde la\n",
        "salida del sol. Los expertos son incapaces de explicar la causa por la que las lechuzas\n",
        "han cambiado sus horarios de sueño. —El locutor se permitió una mueca irónica—.\n",
        "Muy misterioso. Y ahora, de nuevo con Jim McGuffin y el pronóstico del tiempo.\n",
        "¿Habrá más lluvias de lechuzas esta noche, Jim?\n",
        "—Bueno, Ted —dijo el meteorólogo—, eso no lo sé, pero no sólo las lechuzas han\n",
        "tenido hoy una actitud extraña. Telespectadores de lugares tan apartados como Kent,\n",
        "Yorkshire y Dundee han telefoneado para decirme que en lugar de la lluvia que prometí\n",
        "ayer ¡tuvieron un chaparrón de estrellas fugaces! Tal vez la gente ha comenzado a\n",
        "celebrar antes de tiempo la Noche de las Hogueras. ¡Es la semana que viene, señores!\n",
        "Pero puedo prometerles una noche lluviosa.\n",
        "El señor Dursley se quedó congelado en su sillón. ¿Estrellas fugaces por toda Gran\n",
        "Bretaña? ¿Lechuzas volando a la luz del día? Y aquel rumor, aquel cuchicheo sobre los\n",
        "Potter...\n",
        "La señora Dursley entró en el comedor con dos tazas de té. Aquello no iba bien.\n",
        "Tenía que decirle algo a su esposa. Se aclaró la garganta con nerviosismo.\n",
        "—Eh... Petunia, querida, ¿has sabido últimamente algo sobre tu hermana?\n",
        "Como había esperado, la señora Dursley pareció molesta y enfadada. Después de\n",
        "\"\"\""
      ]
    },
    {
      "cell_type": "code",
      "source": [
        "# Dividir el texto en palabras y convertir a minúsculas\n",
        "palabras = texto.lower().split()"
      ],
      "metadata": {
        "id": "BkxVZ6iPvJEt"
      },
      "execution_count": 5,
      "outputs": []
    },
    {
      "cell_type": "code",
      "source": [
        "# Contar la frecuencia de cada palabra\n",
        "frecuencia_palabras = Counter(palabras)\n"
      ],
      "metadata": {
        "id": "2VuNPZhevKzJ"
      },
      "execution_count": 6,
      "outputs": []
    },
    {
      "cell_type": "code",
      "source": [
        "# Ordenar las palabras por frecuencia, de mayor a menor\n",
        "palabras_ordenadas = sorted(frecuencia_palabras.items(), key=lambda x: x[1], reverse=True)\n",
        "\n",
        "# Asignar un rango a cada palabra basado en su posición en la lista ordenada\n",
        "palabras_con_rango = {palabra[0]: indice + 1 for indice, palabra in enumerate(palabras_ordenadas)}\n"
      ],
      "metadata": {
        "id": "6hmTyUVyvNDX"
      },
      "execution_count": 7,
      "outputs": []
    },
    {
      "cell_type": "code",
      "source": [
        "# Crear un nuevo libro de Excel y seleccionar la hoja activa\n",
        "wb = Workbook()\n",
        "hoja = wb.active\n",
        "\n",
        "# Agregar encabezados\n",
        "hoja.append([\"Palabra\", \"Frecuencia\", \"Rango\"])\n"
      ],
      "metadata": {
        "id": "c3TnXLHJvP0I"
      },
      "execution_count": 8,
      "outputs": []
    },
    {
      "cell_type": "code",
      "source": [
        "# Agregar los datos\n",
        "for palabra, frecuencia in palabras_ordenadas:\n",
        "    hoja.append([palabra, frecuencia, palabras_con_rango[palabra]])\n",
        "\n",
        "# Guardar el libro de Excel\n",
        "wb.save(\"frecuencia_palabras.xlsx\")"
      ],
      "metadata": {
        "id": "PvlVYYmhvRw_"
      },
      "execution_count": 9,
      "outputs": []
    }
  ]
}